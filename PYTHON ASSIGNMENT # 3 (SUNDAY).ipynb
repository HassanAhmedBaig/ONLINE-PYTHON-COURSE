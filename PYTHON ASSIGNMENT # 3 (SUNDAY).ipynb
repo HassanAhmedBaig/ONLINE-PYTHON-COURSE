{
 "cells": [
  {
   "cell_type": "markdown",
   "id": "7e07e3f6",
   "metadata": {},
   "source": [
    "# ASSIGNMENT # 3"
   ]
  },
  {
   "cell_type": "code",
   "execution_count": 1,
   "id": "2b7f96e6",
   "metadata": {},
   "outputs": [
    {
     "name": "stdout",
     "output_type": "stream",
     "text": [
      "Twinkle, twinkle, little star, \n",
      "\tHow I wonder what you are! \n",
      "\t\tUp above the world so high, \n",
      "\t\tLike a diamond in the sky. \n",
      "Twinkle, twinkle, little star, \n",
      "\tHow I wonder what you are\n"
     ]
    }
   ],
   "source": [
    "# Q#1:-\n",
    "\n",
    "a= \"Twinkle, twinkle, little star, \\n\\tHow I wonder what you are! \\n\\t\\tUp above the world so high, \\n\\t\\tLike a diamond in the sky. \\nTwinkle, twinkle, little star, \\n\\tHow I wonder what you are\"\n",
    "print(a);"
   ]
  },
  {
   "cell_type": "code",
   "execution_count": 2,
   "id": "3ece0d90",
   "metadata": {},
   "outputs": [
    {
     "name": "stdout",
     "output_type": "stream",
     "text": [
      "3.8.8\n"
     ]
    }
   ],
   "source": [
    "# Q#2:-\n",
    "\n",
    "import platform\n",
    "print(platform.python_version())"
   ]
  },
  {
   "cell_type": "code",
   "execution_count": 3,
   "id": "444e2b4c",
   "metadata": {},
   "outputs": [
    {
     "name": "stdout",
     "output_type": "stream",
     "text": [
      "Sun Oct 24 17:31:47 2021\n"
     ]
    }
   ],
   "source": [
    "# Q#3:-\n",
    "\n",
    "import time\n",
    "print(time.ctime())"
   ]
  },
  {
   "cell_type": "code",
   "execution_count": 4,
   "id": "40af4ac7",
   "metadata": {},
   "outputs": [
    {
     "name": "stdout",
     "output_type": "stream",
     "text": [
      "Enter the radius of the circle : 8\n",
      "The area of the circle with radius 8.0 is : 201.06192982974676\n"
     ]
    }
   ],
   "source": [
    "# Q#4:-\n",
    "\n",
    "from math import pi\n",
    "radius = float(input (\"Enter the radius of the circle : \"))\n",
    "print (\"The area of the circle with radius \" + str(radius) + \" is : \" + str(pi * radius**2))"
   ]
  },
  {
   "cell_type": "code",
   "execution_count": 5,
   "id": "01c15c5e",
   "metadata": {},
   "outputs": [
    {
     "name": "stdout",
     "output_type": "stream",
     "text": [
      "Input your First Name : HASSAN \n",
      "Input your Last Name : AHMED\n",
      "AHMED   HASSAN \n"
     ]
    }
   ],
   "source": [
    "# Q#5:-\n",
    "\n",
    "fname = input(\"Input your First Name : \")\n",
    "lname = input(\"Input your Last Name : \")\n",
    "print (lname + \"   \" + fname);"
   ]
  },
  {
   "cell_type": "code",
   "execution_count": 6,
   "id": "bd4b02b6",
   "metadata": {},
   "outputs": [
    {
     "name": "stdout",
     "output_type": "stream",
     "text": [
      "enter first number: 5\n",
      "enter second number: 6\n",
      "sum: 11\n"
     ]
    }
   ],
   "source": [
    "# Q#6:-\n",
    "\n",
    "x = int(input(\"enter first number: \"))\n",
    "y = int(input(\"enter second number: \"))\n",
    "sum = x + y\n",
    "print(\"sum:\", sum)"
   ]
  },
  {
   "cell_type": "code",
   "execution_count": 9,
   "id": "f173236a",
   "metadata": {},
   "outputs": [
    {
     "name": "stdout",
     "output_type": "stream",
     "text": [
      "Enter marks of the first subject: 90\n",
      "Enter marks of the second subject: 80\n",
      "Enter marks of the third subject: 90\n",
      "Enter marks of the fourth subject: 70\n",
      "Enter marks of the fifth subject: 80\n",
      "Grade: B\n"
     ]
    }
   ],
   "source": [
    "# Q#7:-\n",
    "\n",
    "english=int(input(\"Enter marks of the first subject: \"))\n",
    "maths=int(input(\"Enter marks of the second subject: \"))\n",
    "urdu=int(input(\"Enter marks of the third subject: \"))\n",
    "science=int(input(\"Enter marks of the fourth subject: \"))\n",
    "socialstudies=int(input(\"Enter marks of the fifth subject: \"))\n",
    "avg=(english+maths+urdu+science+socialstudies)/5\n",
    "if(avg >= 90):\n",
    "    print(\"Grade: A\")\n",
    "elif(avg >=80 and avg < 90):\n",
    "    print(\"Grade: B\")\n",
    "elif(avg >= 70 and avg < 80):\n",
    "    print(\"Grade: C\")\n",
    "elif(avg >= 60 and avg < 70):\n",
    "    print(\"Grade: D\")\n",
    "else:\n",
    "    print(\"Grade: F\")"
   ]
  },
  {
   "cell_type": "code",
   "execution_count": 10,
   "id": "df5b1519",
   "metadata": {},
   "outputs": [
    {
     "name": "stdout",
     "output_type": "stream",
     "text": [
      "Enter a number: 7\n",
      "This is an odd number.\n"
     ]
    }
   ],
   "source": [
    "# Q#8:-\n",
    "\n",
    "num = int(input(\"Enter a number: \"))\n",
    "mod = num % 2\n",
    "if mod > 0:\n",
    "    print(\"This is an odd number.\")\n",
    "else:\n",
    "    print(\"This is an even number.\")"
   ]
  },
  {
   "cell_type": "code",
   "execution_count": 11,
   "id": "44c65375",
   "metadata": {},
   "outputs": [
    {
     "name": "stdout",
     "output_type": "stream",
     "text": [
      "The length of list is:  3\n"
     ]
    }
   ],
   "source": [
    "# Q#9:-\n",
    "\n",
    "n = len([10, 20, 30])\n",
    "print(\"The length of list is: \", n)"
   ]
  },
  {
   "cell_type": "code",
   "execution_count": 12,
   "id": "a2e3d73a",
   "metadata": {},
   "outputs": [
    {
     "name": "stdout",
     "output_type": "stream",
     "text": [
      "8\n"
     ]
    }
   ],
   "source": [
    "# Q#10:-\n",
    "def sum_list(items):\n",
    "    sum_numbers = 0\n",
    "    for x in items:\n",
    "        sum_numbers += x\n",
    "    return sum_numbers\n",
    "print(sum_list([5,11,-8]))"
   ]
  },
  {
   "cell_type": "code",
   "execution_count": 13,
   "id": "d8a4f70c",
   "metadata": {},
   "outputs": [
    {
     "name": "stdout",
     "output_type": "stream",
     "text": [
      "Largest element is: 99\n"
     ]
    }
   ],
   "source": [
    "# Q#11:-\n",
    "\n",
    "list1 = [10, 20, 4, 45, 99]\n",
    "print(\"Largest element is:\", max(list1))"
   ]
  },
  {
   "cell_type": "code",
   "execution_count": 14,
   "id": "7a315392",
   "metadata": {},
   "outputs": [
    {
     "name": "stdout",
     "output_type": "stream",
     "text": [
      "1\n",
      "1\n",
      "2\n",
      "3\n"
     ]
    }
   ],
   "source": [
    "# Q#12:-\n",
    "\n",
    "a = [1, 1, 2, 3, 5, 8, 13, 21, 34, 55, 89]\n",
    "for i in a:\n",
    "    if i < 5:\n",
    "        print(i)"
   ]
  },
  {
   "cell_type": "markdown",
   "id": "cc133c3e",
   "metadata": {},
   "source": [
    "# -----------------------------------------------  END  ------------------------------------------------------"
   ]
  }
 ],
 "metadata": {
  "kernelspec": {
   "display_name": "Python 3",
   "language": "python",
   "name": "python3"
  },
  "language_info": {
   "codemirror_mode": {
    "name": "ipython",
    "version": 3
   },
   "file_extension": ".py",
   "mimetype": "text/x-python",
   "name": "python",
   "nbconvert_exporter": "python",
   "pygments_lexer": "ipython3",
   "version": "3.8.8"
  }
 },
 "nbformat": 4,
 "nbformat_minor": 5
}
